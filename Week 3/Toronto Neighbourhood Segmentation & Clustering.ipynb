{
  "nbformat": 4,
  "nbformat_minor": 0,
  "metadata": {
    "colab": {
      "name": "Untitled0.ipynb",
      "provenance": [],
      "authorship_tag": "ABX9TyPyzGshrKd9w1PuGEQCAC4w",
      "include_colab_link": true
    },
    "kernelspec": {
      "name": "python3",
      "display_name": "Python 3"
    },
    "language_info": {
      "name": "python"
    }
  },
  "cells": [
    {
      "cell_type": "markdown",
      "metadata": {
        "id": "view-in-github",
        "colab_type": "text"
      },
      "source": [
        "<a href=\"https://colab.research.google.com/github/prabhavpratyaksh/Coursera_Capstone/blob/master/Week%203/Toronto%20Neighbourhood%20Segmentation%20%26%20Clustering.ipynb\" target=\"_parent\"><img src=\"https://colab.research.google.com/assets/colab-badge.svg\" alt=\"Open In Colab\"/></a>"
      ]
    },
    {
      "cell_type": "markdown",
      "metadata": {
        "id": "t7t-1K8BDt2y"
      },
      "source": [
        "# Toronto Neigbourhoods Segmentation & Clustering\n",
        "\n",
        "### Applied Data Science Capstone Project | Week 3 | Peer-Graded Assignment\n",
        "### Prabhav Pratyaksh 26th July 2021"
      ]
    },
    {
      "cell_type": "markdown",
      "metadata": {
        "id": "-MAkEviFEajC"
      },
      "source": [
        "#### Importing libraries"
      ]
    },
    {
      "cell_type": "code",
      "metadata": {
        "colab": {
          "base_uri": "https://localhost:8080/"
        },
        "id": "9FsiFTsMEu-2",
        "outputId": "b56a9691-827c-4399-f8f4-a177ceb8d5a4"
      },
      "source": [
        "from bs4 import BeautifulSoup\n",
        "import requests\n",
        "import pandas as pd\n",
        "import numpy as np\n",
        "!pip install geocoder\n",
        "import geocoder\n",
        "!pip install geopy\n",
        "from geopy.geocoders import Nominatim \n",
        "import folium\n",
        "from sklearn.cluster import KMeans\n",
        "import matplotlib.cm as cm\n",
        "import matplotlib.colors as colors"
      ],
      "execution_count": 2,
      "outputs": [
        {
          "output_type": "stream",
          "text": [
            "Collecting geocoder\n",
            "  Downloading geocoder-1.38.1-py2.py3-none-any.whl (98 kB)\n",
            "\u001b[?25l\r\u001b[K     |███▎                            | 10 kB 29.0 MB/s eta 0:00:01\r\u001b[K     |██████▋                         | 20 kB 28.6 MB/s eta 0:00:01\r\u001b[K     |██████████                      | 30 kB 20.1 MB/s eta 0:00:01\r\u001b[K     |█████████████▎                  | 40 kB 16.3 MB/s eta 0:00:01\r\u001b[K     |████████████████▋               | 51 kB 7.6 MB/s eta 0:00:01\r\u001b[K     |████████████████████            | 61 kB 7.3 MB/s eta 0:00:01\r\u001b[K     |███████████████████████▎        | 71 kB 8.3 MB/s eta 0:00:01\r\u001b[K     |██████████████████████████▋     | 81 kB 8.7 MB/s eta 0:00:01\r\u001b[K     |██████████████████████████████  | 92 kB 9.0 MB/s eta 0:00:01\r\u001b[K     |████████████████████████████████| 98 kB 5.3 MB/s \n",
            "\u001b[?25hCollecting ratelim\n",
            "  Downloading ratelim-0.1.6-py2.py3-none-any.whl (4.0 kB)\n",
            "Requirement already satisfied: click in /usr/local/lib/python3.7/dist-packages (from geocoder) (7.1.2)\n",
            "Requirement already satisfied: future in /usr/local/lib/python3.7/dist-packages (from geocoder) (0.16.0)\n",
            "Requirement already satisfied: six in /usr/local/lib/python3.7/dist-packages (from geocoder) (1.15.0)\n",
            "Requirement already satisfied: requests in /usr/local/lib/python3.7/dist-packages (from geocoder) (2.23.0)\n",
            "Requirement already satisfied: decorator in /usr/local/lib/python3.7/dist-packages (from ratelim->geocoder) (4.4.2)\n",
            "Requirement already satisfied: chardet<4,>=3.0.2 in /usr/local/lib/python3.7/dist-packages (from requests->geocoder) (3.0.4)\n",
            "Requirement already satisfied: idna<3,>=2.5 in /usr/local/lib/python3.7/dist-packages (from requests->geocoder) (2.10)\n",
            "Requirement already satisfied: urllib3!=1.25.0,!=1.25.1,<1.26,>=1.21.1 in /usr/local/lib/python3.7/dist-packages (from requests->geocoder) (1.24.3)\n",
            "Requirement already satisfied: certifi>=2017.4.17 in /usr/local/lib/python3.7/dist-packages (from requests->geocoder) (2021.5.30)\n",
            "Installing collected packages: ratelim, geocoder\n",
            "Successfully installed geocoder-1.38.1 ratelim-0.1.6\n",
            "Requirement already satisfied: geopy in /usr/local/lib/python3.7/dist-packages (1.17.0)\n",
            "Requirement already satisfied: geographiclib<2,>=1.49 in /usr/local/lib/python3.7/dist-packages (from geopy) (1.52)\n"
          ],
          "name": "stdout"
        }
      ]
    },
    {
      "cell_type": "markdown",
      "metadata": {
        "id": "JoJgm28pFVsr"
      },
      "source": [
        "#### Part 1 - Webscraping\n",
        "\n",
        "##### Scraping Wikipedia link"
      ]
    },
    {
      "cell_type": "code",
      "metadata": {
        "id": "gKsfyZVvFl_w"
      },
      "source": [
        "\n",
        "# send request to Wikipedia link\n",
        "url = 'https://en.wikipedia.org/wiki/List_of_postal_codes_of_Canada:_M'\n",
        "response = requests.get(url).text\n",
        "\n",
        "# using BeautifulSoup, get relevant tags for parsing\n",
        "soup = BeautifulSoup(response, 'html5lib')\n",
        "table = soup.find('table')\n",
        "fields = table.find_all('td')\n",
        "#print(soup.prettify())\n",
        "\n"
      ],
      "execution_count": 8,
      "outputs": []
    }
  ]
}